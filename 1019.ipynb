y, m, d = map(int, input().split('.'))
print('%d.%02d.%02d' % (y,m,d))